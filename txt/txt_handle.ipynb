{
 "metadata": {
  "language_info": {
   "codemirror_mode": {
    "name": "ipython",
    "version": 3
   },
   "file_extension": ".py",
   "mimetype": "text/x-python",
   "name": "python",
   "nbconvert_exporter": "python",
   "pygments_lexer": "ipython3",
   "version": "3.8.6-final"
  },
  "orig_nbformat": 2,
  "kernelspec": {
   "name": "python3",
   "display_name": "Python 3.8.6 64-bit",
   "metadata": {
    "interpreter": {
     "hash": "082e9a3bcad0a290d0001e938aa60b99250c6c2ef33a923c00b70f9826caf4b7"
    }
   }
  }
 },
 "nbformat": 4,
 "nbformat_minor": 2,
 "cells": [
  {
   "source": [
    "# 파이썬에서 텍스트 파일 다루기"
   ],
   "cell_type": "markdown",
   "metadata": {}
  },
  {
   "source": [
    "## Basic"
   ],
   "cell_type": "markdown",
   "metadata": {}
  },
  {
   "source": [
    "### 파일 쓰기 모드로 열기\n",
    "\n",
    "텍스트 파일을 열 때에는 open()을 이용해서 열어주면 된다.\n",
    "\n",
    "```python\n",
    "open(파일명, 모드) #모드) w: write / r: read\n",
    "```"
   ],
   "cell_type": "markdown",
   "metadata": {}
  },
  {
   "cell_type": "code",
   "execution_count": 5,
   "metadata": {},
   "outputs": [],
   "source": [
    "f = open('example.txt', 'w')\n",
    "f.write('Hello World!')\n",
    "f.close()"
   ]
  },
  {
   "source": [
    "### f 스트링 + 반복문을 이용해서 파일 여러 개 생성"
   ],
   "cell_type": "markdown",
   "metadata": {}
  },
  {
   "cell_type": "code",
   "execution_count": 9,
   "metadata": {},
   "outputs": [],
   "source": [
    "for i in range(1, 4):\n",
    "    f = open(f\"example{i}.txt\", 'w')\n",
    "    f.write(f'Hello World! ({i})')\n",
    "    f.close()"
   ]
  },
  {
   "source": [
    "### f 스트링 소수 자리수 조정"
   ],
   "cell_type": "markdown",
   "metadata": {}
  },
  {
   "cell_type": "code",
   "execution_count": 11,
   "metadata": {},
   "outputs": [],
   "source": [
    "f = open('float.txt', 'w')\n",
    "x = 1.33333333333\n",
    "f.write(f'기존: {x}')\n",
    "f.write('\\n')\n",
    "f.write(f'조정: {x:.3f}')\n",
    "f.close()"
   ]
  },
  {
   "source": [
    "### f 스트링 글자수 제한"
   ],
   "cell_type": "markdown",
   "metadata": {}
  },
  {
   "cell_type": "code",
   "execution_count": 12,
   "metadata": {},
   "outputs": [],
   "source": [
    "f = open('str_.txt', 'w')\n",
    "x = ['hello', 'hi', 'hola']\n",
    "\n",
    "for s in x:\n",
    "    f.write(f'{s}  |')\n",
    "\n",
    "f.close()"
   ]
  },
  {
   "cell_type": "code",
   "execution_count": 13,
   "metadata": {},
   "outputs": [],
   "source": [
    "f = open('str_limit.txt', 'w')\n",
    "x = ['hello', 'hi', 'hola']\n",
    "\n",
    "for s in x:\n",
    "    f.write(f'{s:>10}  |')\n",
    "\n",
    "f.close()"
   ]
  },
  {
   "cell_type": "code",
   "execution_count": null,
   "metadata": {},
   "outputs": [],
   "source": []
  }
 ]
}